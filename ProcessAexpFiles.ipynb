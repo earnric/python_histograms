{
 "cells": [
  {
   "cell_type": "code",
   "execution_count": 2,
   "metadata": {
    "collapsed": true
   },
   "outputs": [],
   "source": [
    "import numpy as np"
   ]
  },
  {
   "cell_type": "code",
   "execution_count": 3,
   "metadata": {
    "collapsed": false
   },
   "outputs": [],
   "source": [
    "aexp = np.loadtxt(\"aexpFile.txt\",dtype=[('label','S12'),('a','f8')])"
   ]
  },
  {
   "cell_type": "code",
   "execution_count": 4,
   "metadata": {
    "collapsed": false
   },
   "outputs": [
    {
     "data": {
      "text/plain": [
       "array([ 499.        ,   24.94883251,   22.99096262,   20.96370568,\n",
       "         19.99775134,   18.9992113 ,   18.54246182,   17.99717023,\n",
       "         17.18269104,   16.99900787,   16.52937757,   15.99978812,\n",
       "         15.95172516,   15.42819151,   15.01705193,   14.99987136,\n",
       "         14.67167035,   14.46205175,   14.34813901,   14.09803866,\n",
       "         13.99993344,   13.90282733,   13.74620927,   13.57250726,\n",
       "         13.40241322,   13.29680897,   13.17949049,   13.07842932,\n",
       "         12.99973812,   12.9613491 ,   12.83038169,   12.72014693,\n",
       "         12.57644715,   12.49975876,   12.48819389,   12.40105037,\n",
       "         12.31445078,   12.21469928,   12.11259463,   11.99998327,\n",
       "         11.99518514,   11.89711569,   11.82891681,   11.77439982,\n",
       "         11.70937984,   11.62569182,   11.54513122,   11.49987672,\n",
       "         11.46775671,   11.37749097,   11.20005369,   11.0509653 ,\n",
       "         10.99974677,   10.98192707,   10.93154819,   10.88450324,\n",
       "         10.83876331,   10.79377918])"
      ]
     },
     "execution_count": 4,
     "metadata": {},
     "output_type": "execute_result"
    }
   ],
   "source": [
    "1.0/aexp['a']-1.0"
   ]
  },
  {
   "cell_type": "code",
   "execution_count": 5,
   "metadata": {
    "collapsed": true
   },
   "outputs": [],
   "source": [
    "np.set_printoptions(precision=3)"
   ]
  },
  {
   "cell_type": "code",
   "execution_count": 6,
   "metadata": {
    "collapsed": false
   },
   "outputs": [
    {
     "name": "stdout",
     "output_type": "stream",
     "text": [
      "output_00001 z=499.00\n",
      "output_00002 z=24.95\n",
      "output_00003 z=22.99\n",
      "output_00004 z=20.96\n",
      "output_00005 z=20.00\n",
      "output_00006 z=19.00\n",
      "output_00007 z=18.54\n",
      "output_00008 z=18.00\n",
      "output_00009 z=17.18\n",
      "output_00010 z=17.00\n",
      "output_00011 z=16.53\n",
      "output_00012 z=16.00\n",
      "output_00013 z=15.95\n",
      "output_00014 z=15.43\n",
      "output_00015 z=15.02\n",
      "output_00016 z=15.00\n",
      "output_00017 z=14.67\n",
      "output_00018 z=14.46\n",
      "output_00019 z=14.35\n",
      "output_00020 z=14.10\n",
      "output_00021 z=14.00\n",
      "output_00022 z=13.90\n",
      "output_00023 z=13.75\n",
      "output_00024 z=13.57\n",
      "output_00025 z=13.40\n",
      "output_00026 z=13.30\n",
      "output_00027 z=13.18\n",
      "output_00028 z=13.08\n",
      "output_00029 z=13.00\n",
      "output_00030 z=12.96\n",
      "output_00031 z=12.83\n",
      "output_00032 z=12.72\n",
      "output_00033 z=12.58\n",
      "output_00034 z=12.50\n",
      "output_00035 z=12.49\n",
      "output_00036 z=12.40\n",
      "output_00037 z=12.31\n",
      "output_00038 z=12.21\n",
      "output_00039 z=12.11\n",
      "output_00040 z=12.00\n",
      "output_00041 z=12.00\n",
      "output_00042 z=11.90\n",
      "output_00043 z=11.83\n",
      "output_00044 z=11.77\n",
      "output_00045 z=11.71\n",
      "output_00046 z=11.63\n",
      "output_00047 z=11.55\n",
      "output_00048 z=11.50\n",
      "output_00049 z=11.47\n",
      "output_00050 z=11.38\n",
      "output_00051 z=11.20\n",
      "output_00052 z=11.05\n",
      "output_00053 z=11.00\n",
      "output_00054 z=10.98\n",
      "output_00055 z=10.93\n",
      "output_00056 z=10.88\n",
      "output_00057 z=10.84\n",
      "output_00058 z=10.79\n"
     ]
    }
   ],
   "source": [
    "for i in range(0, len(aexp)):\n",
    "    print(\"%s z=%.2f\"%(aexp['label'][i],1.0/aexp['a'][i]-1.0))"
   ]
  },
  {
   "cell_type": "code",
   "execution_count": null,
   "metadata": {
    "collapsed": true
   },
   "outputs": [],
   "source": []
  }
 ],
 "metadata": {
  "kernelspec": {
   "display_name": "Python 2",
   "language": "python",
   "name": "python2"
  },
  "language_info": {
   "codemirror_mode": {
    "name": "ipython",
    "version": 2
   },
   "file_extension": ".py",
   "mimetype": "text/x-python",
   "name": "python",
   "nbconvert_exporter": "python",
   "pygments_lexer": "ipython2",
   "version": "2.7.11"
  }
 },
 "nbformat": 4,
 "nbformat_minor": 0
}
